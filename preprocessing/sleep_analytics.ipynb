{
 "cells": [
  {
   "cell_type": "code",
   "execution_count": 2,
   "metadata": {},
   "outputs": [],
   "source": [
    "import pandas as pd\n",
    "from global_variables.global_variables import filename_proc, sleep_activities\n",
    "from supporting_func.data_summaries import strip_activity, combine_sleep"
   ]
  },
  {
   "cell_type": "code",
   "execution_count": null,
   "metadata": {},
   "outputs": [],
   "source": [
    "#download just the sleep data\n",
    "df = pd.read_csv(filename_proc)\n",
    "df = df[sleep_activities]\n",
    "# print(df)"
   ]
  },
  {
   "cell_type": "code",
   "execution_count": null,
   "metadata": {},
   "outputs": [],
   "source": [
    "from supporting_func.data_summaries import strip_activity, combine_sleep\n",
    "\n",
    "#create pd start sleep, stop sleep, time slept, date\n",
    "sleep_summary = strip_activity('Sleep', df)\n",
    "print(sleep_summary)\n"
   ]
  },
  {
   "cell_type": "code",
   "execution_count": null,
   "metadata": {},
   "outputs": [],
   "source": [
    "from global_variables.global_variables import start_date, end_date\n",
    "daily_sleep_sum = combine_sleep(sleep_summary,start_date, end_date)\n",
    "print(daily_sleep_sum)"
   ]
  },
  {
   "cell_type": "code",
   "execution_count": null,
   "metadata": {},
   "outputs": [],
   "source": [
    "#find the distributions for time slept, average bed time, average wake time\n",
    "average_sleep = daily_sleep_sum['total_sleep'].mean()\n",
    "std_sleep = daily_sleep_sum['total_sleep'].std()"
   ]
  },
  {
   "cell_type": "code",
   "execution_count": 3,
   "metadata": {},
   "outputs": [
    {
     "ename": "NameError",
     "evalue": "name 'strip_activity' is not defined",
     "output_type": "error",
     "traceback": [
      "\u001b[0;31m---------------------------------------------------------------------------\u001b[0m",
      "\u001b[0;31mNameError\u001b[0m                                 Traceback (most recent call last)",
      "\u001b[0;32m/var/folders/9y/cqpkls2x1qv2_l19_9thsdxc0000gn/T/ipykernel_36705/2553320519.py\u001b[0m in \u001b[0;36m<module>\u001b[0;34m\u001b[0m\n\u001b[1;32m      1\u001b[0m \u001b[0mdf\u001b[0m \u001b[0;34m=\u001b[0m \u001b[0mpd\u001b[0m\u001b[0;34m.\u001b[0m\u001b[0mread_csv\u001b[0m\u001b[0;34m(\u001b[0m\u001b[0;34m'processed_data/hh111/hh111_preprocessed_60sw.csv'\u001b[0m\u001b[0;34m)\u001b[0m\u001b[0;34m\u001b[0m\u001b[0;34m\u001b[0m\u001b[0m\n\u001b[1;32m      2\u001b[0m \u001b[0mdf\u001b[0m \u001b[0;34m=\u001b[0m \u001b[0mdf\u001b[0m\u001b[0;34m[\u001b[0m\u001b[0msleep_activities\u001b[0m\u001b[0;34m]\u001b[0m\u001b[0;34m\u001b[0m\u001b[0;34m\u001b[0m\u001b[0m\n\u001b[0;32m----> 3\u001b[0;31m \u001b[0msleep_summary\u001b[0m \u001b[0;34m=\u001b[0m \u001b[0mstrip_activity\u001b[0m\u001b[0;34m(\u001b[0m\u001b[0;34m'Sleep'\u001b[0m\u001b[0;34m,\u001b[0m \u001b[0mdf\u001b[0m\u001b[0;34m)\u001b[0m\u001b[0;34m\u001b[0m\u001b[0;34m\u001b[0m\u001b[0m\n\u001b[0m\u001b[1;32m      4\u001b[0m \u001b[0mprint\u001b[0m\u001b[0;34m(\u001b[0m\u001b[0msleep_summary\u001b[0m\u001b[0;34m)\u001b[0m\u001b[0;34m\u001b[0m\u001b[0;34m\u001b[0m\u001b[0m\n",
      "\u001b[0;31mNameError\u001b[0m: name 'strip_activity' is not defined"
     ]
    }
   ],
   "source": [
    "df = pd.read_csv('processed_data/hh111/hh111_preprocessed_60sw.csv')\n",
    "df = df[sleep_activities]\n",
    "sleep_summary = strip_activity('Sleep', df)\n",
    "print(sleep_summary)"
   ]
  },
  {
   "cell_type": "markdown",
   "metadata": {},
   "source": []
  }
 ],
 "metadata": {
  "kernelspec": {
   "display_name": "Python 3.7.13 ('.venv': venv)",
   "language": "python",
   "name": "python3"
  },
  "language_info": {
   "codemirror_mode": {
    "name": "ipython",
    "version": 3
   },
   "file_extension": ".py",
   "mimetype": "text/x-python",
   "name": "python",
   "nbconvert_exporter": "python",
   "pygments_lexer": "ipython3",
   "version": "3.7.13"
  },
  "orig_nbformat": 4,
  "vscode": {
   "interpreter": {
    "hash": "9ba2c3715a8b05982243bcb9c498950520be78d172a48bb945a11318acef9b03"
   }
  }
 },
 "nbformat": 4,
 "nbformat_minor": 2
}
