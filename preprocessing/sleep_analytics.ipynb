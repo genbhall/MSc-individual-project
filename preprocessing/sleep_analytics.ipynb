{
 "cells": [
  {
   "cell_type": "code",
   "execution_count": 1,
   "metadata": {},
   "outputs": [],
   "source": [
    "import pandas as pd\n",
    "from global_variables.global_variables import filename_proc, sleep_activities, start_date\n",
    "from supporting_func.data_summaries import strip_activity, combine_sleep, split_data\n",
    "from datetime import datetime, timedelta"
   ]
  },
  {
   "cell_type": "code",
   "execution_count": 3,
   "metadata": {},
   "outputs": [],
   "source": [
    "#download just the sleep data\n",
    "df = pd.read_csv(filename_proc)\n",
    "df = df[sleep_activities]\n",
    "time_frame = 30\n",
    "data_dict = split_data(df,time_frame)\n",
    "df_train = data_dict[0]\n",
    "df_test = data_dict[1]\n",
    "\n"
   ]
  },
  {
   "cell_type": "code",
   "execution_count": 4,
   "metadata": {},
   "outputs": [
    {
     "name": "stdout",
     "output_type": "stream",
     "text": [
      "   Activity               start                 end  Duration\n",
      "0     Sleep 2011-06-15 03:43:00 2011-06-15 08:46:00  5.050000\n",
      "1     Sleep 2011-06-15 23:21:00 2011-06-16 07:01:00  7.666667\n",
      "2     Sleep 2011-06-16 21:53:00 2011-06-17 04:36:00  6.716667\n",
      "3     Sleep 2011-06-17 04:40:00 2011-06-17 08:23:00  3.716667\n",
      "4     Sleep 2011-06-17 22:42:00 2011-06-18 07:34:00  8.866667\n",
      "5     Sleep 2011-06-18 08:54:00 2011-06-18 11:17:00  2.383333\n",
      "6     Sleep 2011-06-18 22:30:00 2011-06-19 07:36:00  9.100000\n",
      "7     Sleep 2011-06-19 21:34:00 2011-06-19 21:37:00  0.050000\n",
      "8     Sleep 2011-06-19 23:04:00 2011-06-19 23:58:00  0.900000\n",
      "9     Sleep 2011-06-20 00:03:00 2011-06-20 04:43:00  4.666667\n",
      "10    Sleep 2011-06-20 04:48:00 2011-06-20 08:46:00  3.966667\n",
      "11    Sleep 2011-06-20 21:50:00 2011-06-20 23:02:00  1.200000\n",
      "12    Sleep 2011-06-20 23:04:00 2011-06-21 00:16:00  1.200000\n",
      "13    Sleep 2011-06-21 00:18:00 2011-06-21 03:48:00  3.500000\n",
      "14    Sleep 2011-06-21 03:51:00 2011-06-21 08:59:00  5.133333\n",
      "15    Sleep 2011-06-21 21:20:00 2011-06-22 03:04:00  5.733333\n",
      "16    Sleep 2011-06-22 03:09:00 2011-06-22 06:55:00  3.766667\n",
      "17    Sleep 2011-06-22 07:03:00 2011-06-22 09:13:00  2.166667\n",
      "18    Sleep 2011-06-22 22:36:00 2011-06-23 08:01:00  9.416667\n",
      "19    Sleep 2011-06-23 21:30:00 2011-06-24 03:04:00  5.566667\n",
      "20    Sleep 2011-06-24 03:07:00 2011-06-24 06:43:00  3.600000\n",
      "21    Sleep 2011-06-24 06:48:00 2011-06-24 08:33:00  1.750000\n",
      "22    Sleep 2011-06-24 21:27:00 2011-06-25 02:42:00  5.250000\n",
      "23    Sleep 2011-06-25 02:46:00 2011-06-25 09:15:00  6.483333\n",
      "24    Sleep 2011-06-25 23:14:00 2011-06-26 07:50:00  8.600000\n",
      "25    Sleep 2011-06-26 21:36:00 2011-06-27 04:21:00  6.750000\n",
      "26    Sleep 2011-06-27 04:26:00 2011-06-27 08:06:00  3.666667\n",
      "27    Sleep 2011-06-27 22:18:00 2011-06-28 02:41:00  4.383333\n",
      "28    Sleep 2011-06-28 02:46:00 2011-06-28 05:49:00  3.050000\n",
      "29    Sleep 2011-06-28 05:54:00 2011-06-28 08:23:00  2.483333\n",
      "..      ...                 ...                 ...       ...\n",
      "31    Sleep 2011-06-29 03:04:00 2011-06-29 05:58:00  2.900000\n",
      "32    Sleep 2011-06-29 06:05:00 2011-06-29 07:37:00  1.533333\n",
      "33    Sleep 2011-06-29 21:19:00 2011-06-30 02:39:00  5.333333\n",
      "34    Sleep 2011-06-30 02:42:00 2011-06-30 07:41:00  4.983333\n",
      "35    Sleep 2011-06-30 21:48:00 2011-06-30 23:35:00  1.783333\n",
      "36    Sleep 2011-06-30 23:39:00 2011-07-01 08:03:00  8.400000\n",
      "37    Sleep 2011-07-01 22:36:00 2011-07-02 08:13:00  9.616667\n",
      "38    Sleep 2011-07-02 09:10:00 2011-07-02 11:32:00  2.366667\n",
      "39    Sleep 2011-07-02 22:08:00 2011-07-03 06:32:00  8.400000\n",
      "40    Sleep 2011-07-03 06:38:00 2011-07-03 08:31:00  1.883333\n",
      "41    Sleep 2011-07-03 23:32:00 2011-07-04 03:17:00  3.750000\n",
      "42    Sleep 2011-07-04 03:22:00 2011-07-04 07:02:00  3.666667\n",
      "43    Sleep 2011-07-04 08:18:00 2011-07-04 10:35:00  2.283333\n",
      "44    Sleep 2011-07-04 22:00:00 2011-07-05 06:57:00  8.950000\n",
      "45    Sleep 2011-07-05 08:27:00 2011-07-05 10:50:00  2.383333\n",
      "46    Sleep 2011-07-05 23:04:00 2011-07-06 04:37:00  5.550000\n",
      "47    Sleep 2011-07-06 04:41:00 2011-07-06 08:12:00  3.516667\n",
      "48    Sleep 2011-07-06 22:20:00 2011-07-07 03:36:00  5.266667\n",
      "49    Sleep 2011-07-07 03:40:00 2011-07-07 06:38:00  2.966667\n",
      "50    Sleep 2011-07-07 06:42:00 2011-07-07 08:01:00  1.316667\n",
      "51    Sleep 2011-07-07 22:09:00 2011-07-07 23:54:00  1.750000\n",
      "52    Sleep 2011-07-07 23:59:00 2011-07-08 04:36:00  4.616667\n",
      "53    Sleep 2011-07-08 04:41:00 2011-07-08 08:31:00  3.833333\n",
      "54    Sleep 2011-07-08 22:17:00 2011-07-09 06:55:00  8.633333\n",
      "55    Sleep 2011-07-09 20:38:00 2011-07-10 02:09:00  5.516667\n",
      "56    Sleep 2011-07-10 02:14:00 2011-07-10 04:21:00  2.116667\n",
      "57    Sleep 2011-07-12 23:35:00 2011-07-13 07:24:00  7.816667\n",
      "58    Sleep 2011-07-13 07:29:00 2011-07-13 10:11:00  2.700000\n",
      "59    Sleep 2011-07-13 22:34:00 2011-07-14 07:22:00  8.800000\n",
      "60    Sleep 2011-07-14 23:13:00 2011-07-14 23:58:00  0.750000\n",
      "\n",
      "[61 rows x 4 columns]\n"
     ]
    }
   ],
   "source": [
    "#create pd start sleep, stop sleep, time slept, date\n",
    "sleep_summary_train = strip_activity('Sleep', df_train)\n",
    "print(sleep_summary_train)\n"
   ]
  },
  {
   "cell_type": "code",
   "execution_count": 6,
   "metadata": {},
   "outputs": [
    {
     "name": "stdout",
     "output_type": "stream",
     "text": [
      "                  Date  total_sleep first_sleep last_sleep  sleep_count\n",
      "0  2011-06-15 12:00:00         7.67    23:21:00   07:01:00            1\n",
      "1  2011-06-16 12:00:00        10.43    21:53:00   08:23:00            2\n",
      "2  2011-06-17 12:00:00        11.25    22:42:00   11:17:00            2\n",
      "3  2011-06-18 12:00:00         9.10    22:30:00   07:36:00            1\n",
      "4  2011-06-19 12:00:00         9.58    21:34:00   08:46:00            4\n",
      "5  2011-06-20 12:00:00        11.03    21:50:00   08:59:00            4\n",
      "6  2011-06-21 12:00:00        11.67    21:20:00   09:13:00            3\n",
      "7  2011-06-22 12:00:00         9.42    22:36:00   08:01:00            1\n",
      "8  2011-06-23 12:00:00        10.92    21:30:00   08:33:00            3\n",
      "9  2011-06-24 12:00:00        11.73    21:27:00   09:15:00            2\n",
      "10 2011-06-25 12:00:00         8.60    23:14:00   07:50:00            1\n",
      "11 2011-06-26 12:00:00        10.42    21:36:00   08:06:00            2\n",
      "12 2011-06-27 12:00:00         9.92    22:18:00   08:23:00            3\n",
      "13 2011-06-28 12:00:00         9.10    22:19:00   07:37:00            3\n",
      "14 2011-06-29 12:00:00        10.32    21:19:00   07:41:00            2\n",
      "15 2011-06-30 12:00:00        10.18    21:48:00   08:03:00            2\n",
      "16 2011-07-01 12:00:00        11.98    22:36:00   11:32:00            2\n",
      "17 2011-07-02 12:00:00        10.28    22:08:00   08:31:00            2\n",
      "18 2011-07-03 12:00:00         9.70    23:32:00   10:35:00            3\n",
      "19 2011-07-04 12:00:00        11.33    22:00:00   10:50:00            2\n",
      "20 2011-07-05 12:00:00         9.07    23:04:00   08:12:00            2\n",
      "21 2011-07-06 12:00:00         9.55    22:20:00   08:01:00            3\n",
      "22 2011-07-07 12:00:00        10.20    22:09:00   08:31:00            3\n",
      "23 2011-07-08 12:00:00         8.63    22:17:00   06:55:00            1\n",
      "24 2011-07-09 12:00:00         7.63    20:38:00   04:21:00            2\n",
      "25 2011-07-10 12:00:00         0.00                                   0\n",
      "26 2011-07-11 12:00:00         0.00                                   0\n",
      "27 2011-07-12 12:00:00        10.52    23:35:00   10:11:00            2\n",
      "28 2011-07-13 12:00:00         8.80    22:34:00   07:22:00            1\n",
      "29 2011-07-14 12:00:00         0.00                                   0\n"
     ]
    }
   ],
   "source": [
    "end_date_train = start_date + timedelta(days=time_frame)\n",
    "daily_sleep_sum_train = combine_sleep(sleep_summary_train,start_date, end_date_train)\n",
    "print(daily_sleep_sum_train)"
   ]
  },
  {
   "cell_type": "code",
   "execution_count": 7,
   "metadata": {},
   "outputs": [
    {
     "name": "stdout",
     "output_type": "stream",
     "text": [
      "8.967666666666666\n",
      "3.2349051932313877\n"
     ]
    }
   ],
   "source": [
    "#find the distributions for time slept, average bed time, average wake time\n",
    "average_sleep = daily_sleep_sum_train['total_sleep'].mean()\n",
    "median_sleep = daily_sleep_sum_train['total_sleep'].mean()\n",
    "\n",
    "std_sleep = daily_sleep_sum_train['total_sleep'].std()\n",
    "print(average_sleep)\n",
    "print(std_sleep)"
   ]
  },
  {
   "cell_type": "code",
   "execution_count": 9,
   "metadata": {},
   "outputs": [
    {
     "name": "stdout",
     "output_type": "stream",
     "text": [
      "2011-07-15 00:00:00\n",
      "2011-08-13 23:59:00\n"
     ]
    }
   ],
   "source": [
    "sleep_summary_test = strip_activity('Sleep', df_test)\n",
    "start_date_test = end_date_train\n",
    "end_date_test = datetime.strptime(df['Date'][df_test.index.tolist()[-1]], '%Y-%m-%d %H:%M:%S')"
   ]
  },
  {
   "cell_type": "markdown",
   "metadata": {},
   "source": []
  },
  {
   "cell_type": "code",
   "execution_count": 8,
   "metadata": {},
   "outputs": [
    {
     "ename": "NameError",
     "evalue": "name 'sleep_summary_test' is not defined",
     "output_type": "error",
     "traceback": [
      "\u001b[0;31m---------------------------------------------------------------------------\u001b[0m",
      "\u001b[0;31mNameError\u001b[0m                                 Traceback (most recent call last)",
      "\u001b[0;32m/var/folders/9y/cqpkls2x1qv2_l19_9thsdxc0000gn/T/ipykernel_33524/4262520020.py\u001b[0m in \u001b[0;36m<module>\u001b[0;34m\u001b[0m\n\u001b[0;32m----> 1\u001b[0;31m \u001b[0mdaily_sleep_sum_test\u001b[0m \u001b[0;34m=\u001b[0m \u001b[0mcombine_sleep\u001b[0m\u001b[0;34m(\u001b[0m\u001b[0msleep_summary_test\u001b[0m\u001b[0;34m,\u001b[0m\u001b[0mstart_date_test\u001b[0m\u001b[0;34m,\u001b[0m \u001b[0mend_date_test\u001b[0m\u001b[0;34m)\u001b[0m\u001b[0;34m\u001b[0m\u001b[0;34m\u001b[0m\u001b[0m\n\u001b[0m\u001b[1;32m      2\u001b[0m \u001b[0mprint\u001b[0m\u001b[0;34m(\u001b[0m\u001b[0mdaily_sleep_sum_test\u001b[0m\u001b[0;34m)\u001b[0m\u001b[0;34m\u001b[0m\u001b[0;34m\u001b[0m\u001b[0m\n",
      "\u001b[0;31mNameError\u001b[0m: name 'sleep_summary_test' is not defined"
     ]
    }
   ],
   "source": [
    "daily_sleep_sum_test = combine_sleep(sleep_summary_test,start_date_test, end_date_test)\n",
    "print(daily_sleep_sum_test)"
   ]
  }
 ],
 "metadata": {
  "kernelspec": {
   "display_name": "Python 3.7.13 ('.venv': venv)",
   "language": "python",
   "name": "python3"
  },
  "language_info": {
   "codemirror_mode": {
    "name": "ipython",
    "version": 3
   },
   "file_extension": ".py",
   "mimetype": "text/x-python",
   "name": "python",
   "nbconvert_exporter": "python",
   "pygments_lexer": "ipython3",
   "version": "3.7.13"
  },
  "orig_nbformat": 4,
  "vscode": {
   "interpreter": {
    "hash": "9ba2c3715a8b05982243bcb9c498950520be78d172a48bb945a11318acef9b03"
   }
  }
 },
 "nbformat": 4,
 "nbformat_minor": 2
}
