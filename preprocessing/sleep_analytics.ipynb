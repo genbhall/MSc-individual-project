{
 "cells": [
  {
   "cell_type": "code",
   "execution_count": 1,
   "metadata": {},
   "outputs": [],
   "source": [
    "import pandas as pd\n",
    "import numpy as np\n",
    "from global_variables.global_variables import filename_proc, sleep_activities, start_date, data_name\n",
    "from supporting_func.data_summaries import strip_activity, combine_sleep, split_data, convert_to_hours\n",
    "from datetime import datetime, timedelta"
   ]
  },
  {
   "cell_type": "code",
   "execution_count": 2,
   "metadata": {},
   "outputs": [],
   "source": [
    "#download just the sleep data\n",
    "df = pd.read_csv(filename_proc)\n",
    "df = df[sleep_activities]\n",
    "time_frame = 30\n",
    "data_dict = split_data(df,time_frame)\n",
    "df_train = data_dict[0]\n",
    "df_test = data_dict[1]"
   ]
  },
  {
   "cell_type": "code",
   "execution_count": 3,
   "metadata": {},
   "outputs": [],
   "source": [
    "#create pd start sleep, stop sleep, time slept, date\n",
    "sleep_summary_train = strip_activity('Sleep', df_train)"
   ]
  },
  {
   "cell_type": "code",
   "execution_count": 4,
   "metadata": {},
   "outputs": [
    {
     "name": "stdout",
     "output_type": "stream",
     "text": [
      "                  Date  total_sleep first_sleep last_sleep  sleep_count\n",
      "0  2012-01-28 12:00:00        10.18    21:04:00   07:38:00            3\n",
      "1  2012-01-29 12:00:00         9.62    21:25:00   07:06:00            2\n",
      "2  2012-01-30 12:00:00         9.23    21:22:00   07:00:00            3\n",
      "3  2012-01-31 12:00:00         8.33    22:23:00   06:53:00            3\n",
      "4  2012-02-01 12:00:00         9.98    21:26:00   07:35:00            4\n",
      "5  2012-02-02 12:00:00         8.72    22:05:00   07:01:00            3\n",
      "6  2012-02-03 12:00:00         8.25    22:54:00   07:15:00            3\n",
      "7  2012-02-04 12:00:00         8.50    22:26:00   07:00:00            2\n",
      "8  2012-02-05 12:00:00         9.18    21:48:00   07:12:00            4\n",
      "9  2012-02-06 12:00:00         7.35    23:14:00   06:40:00            2\n",
      "10 2012-02-07 12:00:00         8.63    22:01:00   06:50:00            3\n",
      "11 2012-02-08 12:00:00         9.42    21:48:00   07:27:00            4\n",
      "12 2012-02-09 12:00:00         8.78    23:04:00   08:01:00            3\n",
      "13 2012-02-10 12:00:00         8.12    22:04:00   06:29:00            4\n",
      "14 2012-02-11 12:00:00        11.00    20:49:00   07:56:00            3\n",
      "15 2012-02-12 12:00:00        10.65    14:40:00   07:16:00            4\n",
      "16 2012-02-13 12:00:00         7.90    22:37:00   06:37:00            2\n",
      "17 2012-02-14 12:00:00         7.58    22:57:00   06:44:00            4\n",
      "18 2012-02-15 12:00:00         8.60    22:01:00   06:42:00            2\n",
      "19 2012-02-16 12:00:00         9.83    21:23:00   10:26:00            4\n",
      "20 2012-02-17 12:00:00         9.62    21:48:00   07:38:00            3\n",
      "21 2012-02-18 12:00:00         7.12    23:46:00   07:01:00            3\n",
      "22 2012-02-19 12:00:00         8.98    22:07:00   07:18:00            3\n",
      "23 2012-02-20 12:00:00         8.17    23:11:00   07:30:00            3\n",
      "24 2012-02-21 12:00:00        10.38    21:15:00   10:46:00            4\n",
      "25 2012-02-22 12:00:00         7.27    00:42:00   07:58:00            1\n",
      "26 2012-02-23 12:00:00         8.40    22:48:00   07:21:00            3\n",
      "27 2012-02-24 12:00:00         7.55    23:25:00   07:10:00            4\n",
      "28 2012-02-25 12:00:00         7.63    00:11:00   07:56:00            2\n",
      "29 2012-02-26 12:00:00         0.00                                   0\n"
     ]
    }
   ],
   "source": [
    "end_date_train = start_date + timedelta(days=time_frame)\n",
    "daily_sleep_sum_train = combine_sleep(sleep_summary_train,start_date, end_date_train)\n",
    "print(daily_sleep_sum_train)"
   ]
  },
  {
   "cell_type": "code",
   "execution_count": 5,
   "metadata": {},
   "outputs": [
    {
     "name": "stdout",
     "output_type": "stream",
     "text": [
      "22.094252873563214\n",
      "7.463218390804598\n"
     ]
    }
   ],
   "source": [
    "#Find average bed time and wake-up times\n",
    "\n",
    "#converts first sleep times to floats\n",
    "first_sleep_list = daily_sleep_sum_train['first_sleep'].to_numpy()\n",
    "first_sleep_times = convert_to_hours(first_sleep_list)\n",
    "average_first_sleep = first_sleep_times.mean()\n",
    "print(average_first_sleep)\n",
    "\n",
    "#convert end sleep times to floats\n",
    "end_sleep_list = daily_sleep_sum_train['last_sleep'].to_numpy()\n",
    "end_sleep_times = convert_to_hours(end_sleep_list, night_time=False)\n",
    "average_end_sleep = end_sleep_times.mean()\n",
    "print(average_end_sleep)\n",
    "\n"
   ]
  },
  {
   "cell_type": "code",
   "execution_count": 16,
   "metadata": {},
   "outputs": [
    {
     "name": "stdout",
     "output_type": "stream",
     "text": [
      "8.499\n",
      "1.913053796312641\n"
     ]
    }
   ],
   "source": [
    "#find the distributions for time slept, average bed time, average wake time\n",
    "average_sleep = daily_sleep_sum_train['total_sleep'].mean()\n",
    "std_sleep = daily_sleep_sum_train['total_sleep'].std()\n",
    "\n",
    "print(average_sleep)\n",
    "print(std_sleep)"
   ]
  },
  {
   "cell_type": "code",
   "execution_count": 7,
   "metadata": {},
   "outputs": [],
   "source": [
    "sleep_summary_test = strip_activity('Sleep', df_test)\n",
    "start_date_test = end_date_train\n",
    "end_date_test = datetime.strptime(df['Date'][df_test.index.tolist()[-1]], '%Y-%m-%d %H:%M:%S')"
   ]
  },
  {
   "cell_type": "markdown",
   "metadata": {},
   "source": []
  },
  {
   "cell_type": "code",
   "execution_count": 8,
   "metadata": {},
   "outputs": [
    {
     "name": "stdout",
     "output_type": "stream",
     "text": [
      "                  Date  total_sleep first_sleep last_sleep  sleep_count\n",
      "0  2012-02-27 12:00:00         7.48    23:19:00   06:54:00            2\n",
      "1  2012-02-28 12:00:00         8.05    22:45:00   06:59:00            3\n",
      "2  2012-02-29 12:00:00         9.72    14:30:00   06:45:00            4\n",
      "3  2012-03-01 12:00:00         6.78    00:16:00   07:06:00            2\n",
      "4  2012-03-02 12:00:00         8.53    23:07:00   07:49:00            3\n",
      "5  2012-03-03 12:00:00         9.27    21:30:00   06:59:00            3\n",
      "6  2012-03-04 12:00:00         9.87    20:59:00   07:07:00            4\n",
      "7  2012-03-05 12:00:00         7.47    22:43:00   06:23:00            2\n",
      "8  2012-03-06 12:00:00         9.00    23:30:00   08:40:00            3\n",
      "9  2012-03-07 12:00:00         9.38    22:03:00   07:39:00            3\n",
      "10 2012-03-08 12:00:00         9.88    00:19:00   11:54:00            5\n",
      "11 2012-03-09 12:00:00         9.07    23:00:00   08:14:00            3\n",
      "12 2012-03-10 12:00:00        10.38    22:14:00   08:44:00            3\n",
      "13 2012-03-11 12:00:00        10.13    17:40:00   11:32:00            4\n",
      "14 2012-03-12 12:00:00         8.47    23:29:00   09:59:00            5\n",
      "15 2012-03-13 12:00:00        10.50    21:21:00   08:03:00            4\n",
      "16 2012-03-14 12:00:00         8.80    22:18:00   07:16:00            3\n",
      "17 2012-03-15 12:00:00         9.30    22:25:00   07:54:00            3\n",
      "18 2012-03-16 12:00:00         9.30    14:00:00   08:09:00            5\n",
      "19 2012-03-17 12:00:00         8.38    23:47:00   08:27:00            4\n",
      "20 2012-03-18 12:00:00         7.72    00:22:00   08:13:00            2\n",
      "21 2012-03-19 12:00:00         9.43    21:53:00   07:30:00            3\n",
      "22 2012-03-20 12:00:00         8.97    22:30:00   07:32:00            2\n",
      "23 2012-03-21 12:00:00         8.93    22:06:00   07:18:00            3\n",
      "24 2012-03-22 12:00:00         8.78    23:25:00   08:16:00            2\n",
      "25 2012-03-23 12:00:00         8.77    22:37:00   07:33:00            3\n",
      "26 2012-03-24 12:00:00         8.85    22:59:00   08:03:00            3\n",
      "27 2012-03-25 12:00:00        11.13    21:35:00   12:11:00            3\n",
      "28 2012-03-26 12:00:00        10.08    21:39:00   08:16:00            4\n"
     ]
    }
   ],
   "source": [
    "daily_sleep_sum_test = combine_sleep(sleep_summary_test,start_date_test, end_date_test)\n",
    "print(daily_sleep_sum_test)"
   ]
  },
  {
   "cell_type": "code",
   "execution_count": 19,
   "metadata": {},
   "outputs": [],
   "source": [
    "#create the lists for the y axis\n",
    "\n",
    "#converts first sleep times to floats\n",
    "first_sleep_list = daily_sleep_sum_test['first_sleep'].to_numpy()\n",
    "first_sleep_times = convert_to_hours(first_sleep_list)\n",
    "\n",
    "#convert end sleep times to floats\n",
    "end_sleep_list = daily_sleep_sum_test['last_sleep'].to_numpy()\n",
    "end_sleep_times = convert_to_hours(end_sleep_list, night_time=False)\n",
    "\n",
    "#total_sleep convert\n",
    "total_sleep_times = daily_sleep_sum_test['total_sleep'].to_numpy()\n",
    "\n",
    "#create the x-axis\n",
    "count = total_sleep_times.size\n",
    "index_array = np.arange(1,count+1,dtype=int)\n",
    "\n",
    "#create the average lines for total sleep\n",
    "average_total_sleep_list = np.full((count,),average_sleep)\n",
    "one_std_up_total_sleep_list = np.full((count,),average_sleep+std_sleep)\n",
    "one_std_down_total_sleep_list = np.full((count,),average_sleep-std_sleep)\n",
    "\n",
    "#create the average lines for begin and end sleep\n",
    "average_start_sleep_list = np.full((count,),average_first_sleep)\n",
    "average_end_sleep_list = np.full((count,),average_end_sleep)\n",
    "\n"
   ]
  },
  {
   "cell_type": "code",
   "execution_count": 15,
   "metadata": {},
   "outputs": [],
   "source": [
    "#packages for plotting the charts\n",
    "\n",
    "import matplotlib.pyplot as plt\n",
    "import matplotlib.patches as mpatches"
   ]
  },
  {
   "cell_type": "code",
   "execution_count": 17,
   "metadata": {},
   "outputs": [
    {
     "data": {
      "image/png": "[encoded data removed]",
      "text/plain": [
       "<Figure size 432x288 with 1 Axes>"
      ]
     },
     "metadata": {
      "needs_background": "light"
     },
     "output_type": "display_data"
    }
   ],
   "source": [
    "#PLOTTING AVERAGE SLEEP PER DAY\n",
    "\n",
    "#plot the time slept per day\n",
    "plt.plot(index_array,total_sleep_times,label=\"Test Data\")\n",
    "\n",
    "#plot the average from train\n",
    "plt.plot(index_array,average_total_sleep_list,label=\"Training Average\")\n",
    "\n",
    "#fill between the two std deviations\n",
    "plt.fill_between(index_array,one_std_down_total_sleep_list,one_std_up_total_sleep_list,color='orange',alpha=0.2)\n",
    "plt.ylim([5, 12])\n",
    "\n",
    "#add label\n",
    "# where some data has already been plotted to ax\n",
    "handles, labels = plt.gca().get_legend_handles_labels()\n",
    "patch = mpatches.Patch(color='orange', alpha=0.2, label='+/- 1 SD')\n",
    "handles.append(patch)\n",
    "plt.legend(handles=handles, loc=\"upper left\")\n",
    "\n",
    "plt.title('Average Total Hours Slept Per Day')\n",
    "plt.xlabel('Day Count')\n",
    "plt.ylabel('Time Slept (Hours)')\n",
    "plt.savefig(f'report_outputs/imgs/{data_name}_averagetothours.jpg',dpi=200)\n",
    "plt.show()\n"
   ]
  },
  {
   "cell_type": "code",
   "execution_count": 21,
   "metadata": {},
   "outputs": [
    {
     "data": {
      "image/png": "[encoded data removed]",
      "text/plain": [
       "<Figure size 432x288 with 1 Axes>"
      ]
     },
     "metadata": {
      "needs_background": "light"
     },
     "output_type": "display_data"
    }
   ],
   "source": [
    "#PLOTTING BED TIME SLEEP PER DAY\n",
    "\n",
    "#plot the time slept per day\n",
    "plt.plot(index_array,first_sleep_times,label=\"Test Data\")\n",
    "\n",
    "#plot the average from train\n",
    "plt.plot(index_array,average_start_sleep_list,label=\"Training Average\")\n",
    "\n",
    "#fill between the two std deviations\n",
    "plt.ylim([14, 25])\n",
    "\n",
    "#add label\n",
    "# where some data has already been plotted to ax\n",
    "# handles, labels = plt.gca().get_legend_handles_labels()\n",
    "# patch = mpatches.Patch(color='orange', alpha=0.2, label='+/- 1 SD')\n",
    "# handles.append(patch)\n",
    "plt.legend(loc=\"upper left\")\n",
    "\n",
    "plt.title('First Sleep of the Day')\n",
    "plt.xlabel('Day Count')\n",
    "plt.ylabel('Time')\n",
    "plt.savefig(f'report_outputs/imgs/{data_name}_firstsleep.jpg',dpi=200)\n",
    "plt.show()\n"
   ]
  }
 ],
 "metadata": {
  "kernelspec": {
   "display_name": "Python 3.7.13 ('.venv': venv)",
   "language": "python",
   "name": "python3"
  },
  "language_info": {
   "codemirror_mode": {
    "name": "ipython",
    "version": 3
   },
   "file_extension": ".py",
   "mimetype": "text/x-python",
   "name": "python",
   "nbconvert_exporter": "python",
   "pygments_lexer": "ipython3",
   "version": "3.7.13"
  },
  "orig_nbformat": 4,
  "vscode": {
   "interpreter": {
    "hash": "9ba2c3715a8b05982243bcb9c498950520be78d172a48bb945a11318acef9b03"
   }
  }
 },
 "nbformat": 4,
 "nbformat_minor": 2
}
