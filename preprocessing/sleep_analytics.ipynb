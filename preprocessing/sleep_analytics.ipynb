{
 "cells": [
  {
   "cell_type": "code",
   "execution_count": 1,
   "metadata": {},
   "outputs": [],
   "source": [
    "import pandas as pd\n",
    "from global_variables.global_variables import filename_proc, sleep_activities"
   ]
  },
  {
   "cell_type": "code",
   "execution_count": 2,
   "metadata": {},
   "outputs": [],
   "source": [
    "#download just the sleep data\n",
    "df = pd.read_csv(filename_proc)\n",
    "df = df[sleep_activities]\n",
    "# print(df)"
   ]
  },
  {
   "cell_type": "code",
   "execution_count": null,
   "metadata": {},
   "outputs": [],
   "source": []
  },
  {
   "cell_type": "code",
   "execution_count": 3,
   "metadata": {},
   "outputs": [],
   "source": [
    "from supporting_func.data_summaries import strip_activity, combine_sleep\n",
    "\n",
    "#create pd start sleep, stop sleep, time slept, date\n",
    "sleep_summary = strip_activity('Sleep', df)\n",
    "print(sleep_summary)\n"
   ]
  },
  {
   "cell_type": "code",
   "execution_count": 4,
   "metadata": {},
   "outputs": [
    {
     "name": "stdout",
     "output_type": "stream",
     "text": [
      "          Date-nightof  total_sleep  sleep_count\n",
      "0  2012-07-20 12:00:00     0.000000            0\n",
      "1  2012-07-21 12:00:00     6.433333            2\n",
      "2  2012-07-22 12:00:00     7.100000            3\n",
      "3  2012-07-23 12:00:00     6.866667            2\n",
      "4  2012-07-24 12:00:00     6.250000            1\n",
      "5  2012-07-25 12:00:00     7.416667            1\n",
      "6  2012-07-26 12:00:00     7.000000            1\n",
      "7  2012-07-27 12:00:00     5.400000            1\n",
      "8  2012-07-28 12:00:00     5.750000            1\n",
      "9  2012-07-29 12:00:00     7.833333            2\n",
      "10 2012-07-30 12:00:00     6.816667            1\n",
      "11 2012-07-31 12:00:00     5.450000            1\n",
      "12 2012-08-01 12:00:00     6.416667            1\n",
      "13 2012-08-02 12:00:00     7.066667            1\n",
      "14 2012-08-03 12:00:00     6.450000            1\n",
      "15 2012-08-04 12:00:00     7.016667            1\n",
      "16 2012-08-05 12:00:00     5.050000            1\n",
      "17 2012-08-06 12:00:00     6.900000            1\n",
      "18 2012-08-07 12:00:00     5.750000            1\n",
      "19 2012-08-08 12:00:00     6.150000            1\n",
      "20 2012-08-09 12:00:00     7.100000            2\n",
      "21 2012-08-10 12:00:00     6.033333            1\n",
      "22 2012-08-11 12:00:00     7.000000            2\n",
      "23 2012-08-12 12:00:00     6.550000            1\n",
      "24 2012-08-13 12:00:00     5.516667            1\n",
      "25 2012-08-14 12:00:00     6.200000            1\n",
      "26 2012-08-15 12:00:00     9.450000            2\n",
      "27 2012-08-16 12:00:00     7.583333            1\n",
      "28 2012-08-17 12:00:00     6.233333            1\n",
      "29 2012-08-18 12:00:00     6.983333            1\n",
      "30 2012-08-19 12:00:00     5.733333            1\n",
      "31 2012-08-20 12:00:00     6.883333            2\n",
      "32 2012-08-21 12:00:00     4.200000            1\n",
      "33 2012-08-22 12:00:00     7.150000            1\n",
      "34 2012-08-23 12:00:00     3.833333            1\n",
      "35 2012-08-24 12:00:00     5.533333            1\n",
      "36 2012-08-25 12:00:00     7.800000            2\n",
      "37 2012-08-26 12:00:00     7.183333            2\n",
      "38 2012-08-27 12:00:00     6.483333            2\n",
      "39 2012-08-28 12:00:00    10.883333            2\n",
      "40 2012-08-29 12:00:00     2.816667            1\n",
      "41 2012-08-30 12:00:00     4.950000            1\n",
      "42 2012-08-31 12:00:00     9.400000            2\n",
      "43 2012-09-01 12:00:00     8.133333            2\n",
      "44 2012-09-02 12:00:00     7.916667            1\n",
      "45 2012-09-03 12:00:00     8.716667            2\n",
      "46 2012-09-04 12:00:00     5.466667            1\n",
      "47 2012-09-05 12:00:00     6.783333            1\n",
      "48 2012-09-06 12:00:00     6.350000            1\n",
      "49 2012-09-07 12:00:00     5.033333            1\n",
      "50 2012-09-08 12:00:00     6.400000            1\n",
      "51 2012-09-09 12:00:00     5.750000            1\n",
      "52 2012-09-10 12:00:00     6.050000            1\n",
      "53 2012-09-11 12:00:00     7.516667            1\n",
      "54 2012-09-12 12:00:00     6.900000            1\n",
      "55 2012-09-13 12:00:00     4.133333            1\n",
      "56 2012-09-14 12:00:00     8.366667            2\n",
      "57 2012-09-15 12:00:00     7.783333            2\n",
      "58 2012-09-16 12:00:00     0.000000            0\n"
     ]
    }
   ],
   "source": [
    "from global_variables.global_variables import start_date, end_date\n",
    "daily_sleep_sum = combine_sleep(sleep_summary,start_date, end_date)\n",
    "print(daily_sleep_sum)"
   ]
  },
  {
   "cell_type": "code",
   "execution_count": 5,
   "metadata": {},
   "outputs": [],
   "source": [
    "#find the distributions for time slept, average bed time, average wake time"
   ]
  },
  {
   "cell_type": "markdown",
   "metadata": {},
   "source": []
  }
 ],
 "metadata": {
  "kernelspec": {
   "display_name": "Python 3.7.13 ('.venv': venv)",
   "language": "python",
   "name": "python3"
  },
  "language_info": {
   "codemirror_mode": {
    "name": "ipython",
    "version": 3
   },
   "file_extension": ".py",
   "mimetype": "text/x-python",
   "name": "python",
   "nbconvert_exporter": "python",
   "pygments_lexer": "ipython3",
   "version": "3.7.13"
  },
  "orig_nbformat": 4,
  "vscode": {
   "interpreter": {
    "hash": "9ba2c3715a8b05982243bcb9c498950520be78d172a48bb945a11318acef9b03"
   }
  }
 },
 "nbformat": 4,
 "nbformat_minor": 2
}
