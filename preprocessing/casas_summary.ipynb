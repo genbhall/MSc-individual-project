{
 "cells": [
  {
   "cell_type": "code",
   "execution_count": 8,
   "metadata": {},
   "outputs": [],
   "source": [
    "import pandas as pd\n",
    "import dataframe_image as dfi"
   ]
  },
  {
   "cell_type": "code",
   "execution_count": null,
   "metadata": {},
   "outputs": [],
   "source": [
    "#code extracting first few lines of raw dataset for output purposes (unused)\n",
    "df = pd.read_csv('../CASAS_dataset/hh101/hh101.ann.features.csv')\n",
    "df_summary = df.head()\n",
    "print(df_summary)"
   ]
  },
  {
   "cell_type": "code",
   "execution_count": 27,
   "metadata": {},
   "outputs": [
    {
     "name": "stderr",
     "output_type": "stream",
     "text": [
      "/Users/hall/Dropbox/Imperial/Individual-project/individual-project/.venv/lib/python3.7/site-packages/ipykernel_launcher.py:9: FutureWarning: The signature of `Series.to_csv` was aligned to that of `DataFrame.to_csv`, and argument 'header' will change its default value from False to True: please pass an explicit value to suppress this warning.\n",
      "  if __name__ == \"__main__\":\n"
     ]
    }
   ],
   "source": [
    "#code outputting class distribution by minutes\n",
    "df = pd.read_csv('processed_data/hh101/hh101_preprocessed_60sw.csv')\n",
    "\n",
    "#get the sum of each column (representative of minutes)\n",
    "df_sum = df.iloc[:,4:].sum()\n",
    "\n",
    "#sort and print\n",
    "df_sum = df_sum.sort_values(ascending=False)\n",
    "df_sum.to_csv(\"report_outputs/hh101_preprocessedbymin.csv\")"
   ]
  },
  {
   "cell_type": "code",
   "execution_count": null,
   "metadata": {},
   "outputs": [],
   "source": [
    "#code outputting class distribution by minutes\n",
    "df = pd.read_csv('processed_data/hh120/hh120_preprocessed_60sw.csv')\n",
    "\n",
    "#get the sum of each column (representative of minutes)\n",
    "df_sum = df.iloc[:,4:].sum()\n",
    "\n",
    "#sort and print\n",
    "df_sum = df_sum.sort_values(ascending=False)\n",
    "df_sum.to_csv(\"report_outputs/hh120_preprocessedbymin.csv\")"
   ]
  }
 ],
 "metadata": {
  "kernelspec": {
   "display_name": "Python 3.7.13 ('.venv': venv)",
   "language": "python",
   "name": "python3"
  },
  "language_info": {
   "codemirror_mode": {
    "name": "ipython",
    "version": 3
   },
   "file_extension": ".py",
   "mimetype": "text/x-python",
   "name": "python",
   "nbconvert_exporter": "python",
   "pygments_lexer": "ipython3",
   "version": "3.7.13"
  },
  "orig_nbformat": 4,
  "vscode": {
   "interpreter": {
    "hash": "9ba2c3715a8b05982243bcb9c498950520be78d172a48bb945a11318acef9b03"
   }
  }
 },
 "nbformat": 4,
 "nbformat_minor": 2
}
