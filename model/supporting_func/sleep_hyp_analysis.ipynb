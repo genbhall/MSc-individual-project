{
 "cells": [
  {
   "cell_type": "code",
   "execution_count": 1,
   "metadata": {},
   "outputs": [],
   "source": [
    "import pandas as pd\n",
    "\n",
    "#read the hyperparameter tuning\n",
    "headers = ['Window_size', 'Time_interval', 'Epochs', 'Latent_dim', \n",
    "            'Score_window', 'Threshold', 'F1_score', 'Precision', 'Recall']\n",
    "df = pd.read_csv(\"../hyperparam_logs/sleep/log_file_sleep.txt\", header=None, names=headers)"
   ]
  },
  {
   "cell_type": "code",
   "execution_count": 3,
   "metadata": {},
   "outputs": [
    {
     "name": "stdout",
     "output_type": "stream",
     "text": [
      "     Window_size  Time_interval  Epochs  Latent_dim  Score_window  Threshold  \\\n",
      "189          200           1800      50           5             5          5   \n",
      "45           100           1800      10          20             5          5   \n",
      "573          400            300      10           5            50          5   \n",
      "633          400            300      50          20            10          5   \n",
      "54           100           1800      30           5             5          5   \n",
      "\n",
      "     F1_score  Precision  Recall  \n",
      "189      0.84       0.89     0.8  \n",
      "45       0.84       0.89     0.8  \n",
      "573      0.84       0.89     0.8  \n",
      "633      0.82       1.00     0.7  \n",
      "54       0.78       0.69     0.9  \n"
     ]
    }
   ],
   "source": [
    "#rank by highest F1 score\n",
    "df_ranked = df.sort_values(by=['F1_score'], ascending=False)[:5]\n",
    "print(df_ranked)"
   ]
  },
  {
   "cell_type": "code",
   "execution_count": 4,
   "metadata": {},
   "outputs": [],
   "source": [
    "#export to csv file for input into next stage of hyperparam tuning\n",
    "df_ranked.to_csv(\"../hyperparam_logs/sleep/F1_top_5.csv\")\n"
   ]
  }
 ],
 "metadata": {
  "kernelspec": {
   "display_name": "Python 3.7.13 ('.venv': venv)",
   "language": "python",
   "name": "python3"
  },
  "language_info": {
   "codemirror_mode": {
    "name": "ipython",
    "version": 3
   },
   "file_extension": ".py",
   "mimetype": "text/x-python",
   "name": "python",
   "nbconvert_exporter": "python",
   "pygments_lexer": "ipython3",
   "version": "3.7.13"
  },
  "orig_nbformat": 4,
  "vscode": {
   "interpreter": {
    "hash": "9ba2c3715a8b05982243bcb9c498950520be78d172a48bb945a11318acef9b03"
   }
  }
 },
 "nbformat": 4,
 "nbformat_minor": 2
}
